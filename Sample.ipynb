{
 "cells": [
  {
   "cell_type": "markdown",
   "id": "9d88af7e-a2a9-4e19-8290-7c1c5d9e97d3",
   "metadata": {},
   "source": [
    "# LLMxBugs"
   ]
  },
  {
   "cell_type": "code",
   "execution_count": 1,
   "id": "a7854711-445b-4c56-9b93-c6ce4e3cade0",
   "metadata": {},
   "outputs": [],
   "source": [
    "import os\n",
    "import openai\n",
    "import pandas as pd\n",
    "from tqdm import tqdm\n",
    "import json\n",
    "import pickle\n",
    "import numpy as np"
   ]
  },
  {
   "cell_type": "code",
   "execution_count": 2,
   "id": "77d39cb2-f0fa-461f-be6d-4daa053afb73",
   "metadata": {},
   "outputs": [],
   "source": [
    "openai.api_key = \"APIKEY\"\n",
    "MODEL = \"text-davinci-002\""
   ]
  },
  {
   "cell_type": "code",
   "execution_count": 3,
   "id": "ffa38c9b-3c56-48a4-8401-7368e371d444",
   "metadata": {},
   "outputs": [],
   "source": [
    "def rename_choices(str_desc):\n",
    "  str_desc = str_desc.replace('1.', '(a)')\n",
    "  str_desc = str_desc.replace('2.', '(b)')\n",
    "  str_desc = str_desc.replace('3.', '(c)')\n",
    "  str_desc = str_desc.replace('4.', '(d)')\n",
    "  str_desc = '\\n'.join([x.lstrip() for x in str_desc.split('\\n')])\n",
    "  return str_desc"
   ]
  },
  {
   "cell_type": "markdown",
   "id": "9605f819-ac30-452f-86a2-c07221c8af09",
   "metadata": {},
   "source": [
    "## Load Dataset"
   ]
  },
  {
   "cell_type": "code",
   "execution_count": 4,
   "id": "127db4ca-d21c-438e-82cb-77bbaba9e531",
   "metadata": {},
   "outputs": [],
   "source": [
    "dataset = pd.read_csv('GameBugDescription.csv')"
   ]
  },
  {
   "cell_type": "code",
   "execution_count": 5,
   "id": "d07ad063-d4bb-474d-9c92-639321ab023b",
   "metadata": {},
   "outputs": [],
   "source": [
    "dataset['Descr1'] = dataset['Descr1'].apply(rename_choices)\n",
    "dataset['Descr2'] = dataset['Descr2'].apply(rename_choices)"
   ]
  },
  {
   "cell_type": "code",
   "execution_count": 6,
   "id": "c1a7109b-dbf2-4623-9c5d-643b7088b5d4",
   "metadata": {},
   "outputs": [
    {
     "data": {
      "text/html": [
       "<div>\n",
       "<style scoped>\n",
       "    .dataframe tbody tr th:only-of-type {\n",
       "        vertical-align: middle;\n",
       "    }\n",
       "\n",
       "    .dataframe tbody tr th {\n",
       "        vertical-align: top;\n",
       "    }\n",
       "\n",
       "    .dataframe thead th {\n",
       "        text-align: right;\n",
       "    }\n",
       "</style>\n",
       "<table border=\"1\" class=\"dataframe\">\n",
       "  <thead>\n",
       "    <tr style=\"text-align: right;\">\n",
       "      <th></th>\n",
       "      <th>File</th>\n",
       "      <th>Game</th>\n",
       "      <th>Descr1</th>\n",
       "      <th>Descr2</th>\n",
       "      <th>Descr1-GT</th>\n",
       "      <th>Descr2-GT</th>\n",
       "      <th>Bug Type</th>\n",
       "      <th>Source</th>\n",
       "    </tr>\n",
       "  </thead>\n",
       "  <tbody>\n",
       "    <tr>\n",
       "      <th>0</th>\n",
       "      <td>ka7yth</td>\n",
       "      <td>Cyberpunk 2077</td>\n",
       "      <td>(a) A person approaches a fence\\n(b) A car app...</td>\n",
       "      <td>(a) A car is driving next to a ledge\\n(b) The ...</td>\n",
       "      <td>3</td>\n",
       "      <td>3</td>\n",
       "      <td>Collision bug</td>\n",
       "      <td>https://www.reddit.com/r/GamePhysics/comments/...</td>\n",
       "    </tr>\n",
       "    <tr>\n",
       "      <th>1</th>\n",
       "      <td>kae98l</td>\n",
       "      <td>Cyberpunk 2077</td>\n",
       "      <td>(a) A car clips through multiple containers\\n(...</td>\n",
       "      <td>(a) A car is driving towards a closed shipping...</td>\n",
       "      <td>1</td>\n",
       "      <td>3</td>\n",
       "      <td>Collision bug</td>\n",
       "      <td>https://www.reddit.com/r/GamePhysics/comments/...</td>\n",
       "    </tr>\n",
       "    <tr>\n",
       "      <th>2</th>\n",
       "      <td>kbqzb0</td>\n",
       "      <td>Cyberpunk 2077</td>\n",
       "      <td>(a) A car hits another car while driving on th...</td>\n",
       "      <td>(a) The player is driving a car towards anothe...</td>\n",
       "      <td>2</td>\n",
       "      <td>3</td>\n",
       "      <td>Irregular force</td>\n",
       "      <td>https://www.reddit.com/r/GamePhysics/comments/...</td>\n",
       "    </tr>\n",
       "    <tr>\n",
       "      <th>3</th>\n",
       "      <td>kbwq31</td>\n",
       "      <td>Cyberpunk 2077</td>\n",
       "      <td>(a) A person pulls out an invisible sword\\n(b)...</td>\n",
       "      <td>(a) The player equips a sword in a menu\\n(b) T...</td>\n",
       "      <td>1</td>\n",
       "      <td>3</td>\n",
       "      <td>Graphical bug</td>\n",
       "      <td>https://www.reddit.com/r/GamePhysics/comments/...</td>\n",
       "    </tr>\n",
       "    <tr>\n",
       "      <th>4</th>\n",
       "      <td>kc7eum</td>\n",
       "      <td>Cyberpunk 2077</td>\n",
       "      <td>(a) A person approaches a policeman\\n(b) A hol...</td>\n",
       "      <td>(a) The player walks up to a man\\n(b) A game i...</td>\n",
       "      <td>4</td>\n",
       "      <td>4</td>\n",
       "      <td>Sliding objects</td>\n",
       "      <td>https://www.reddit.com/r/GamePhysics/comments/...</td>\n",
       "    </tr>\n",
       "  </tbody>\n",
       "</table>\n",
       "</div>"
      ],
      "text/plain": [
       "     File            Game                                             Descr1  \\\n",
       "0  ka7yth  Cyberpunk 2077  (a) A person approaches a fence\\n(b) A car app...   \n",
       "1  kae98l  Cyberpunk 2077  (a) A car clips through multiple containers\\n(...   \n",
       "2  kbqzb0  Cyberpunk 2077  (a) A car hits another car while driving on th...   \n",
       "3  kbwq31  Cyberpunk 2077  (a) A person pulls out an invisible sword\\n(b)...   \n",
       "4  kc7eum  Cyberpunk 2077  (a) A person approaches a policeman\\n(b) A hol...   \n",
       "\n",
       "                                              Descr2  Descr1-GT  Descr2-GT  \\\n",
       "0  (a) A car is driving next to a ledge\\n(b) The ...          3          3   \n",
       "1  (a) A car is driving towards a closed shipping...          1          3   \n",
       "2  (a) The player is driving a car towards anothe...          2          3   \n",
       "3  (a) The player equips a sword in a menu\\n(b) T...          1          3   \n",
       "4  (a) The player walks up to a man\\n(b) A game i...          4          4   \n",
       "\n",
       "          Bug Type                                             Source  \n",
       "0    Collision bug  https://www.reddit.com/r/GamePhysics/comments/...  \n",
       "1    Collision bug  https://www.reddit.com/r/GamePhysics/comments/...  \n",
       "2  Irregular force  https://www.reddit.com/r/GamePhysics/comments/...  \n",
       "3    Graphical bug  https://www.reddit.com/r/GamePhysics/comments/...  \n",
       "4  Sliding objects  https://www.reddit.com/r/GamePhysics/comments/...  "
      ]
     },
     "execution_count": 6,
     "metadata": {},
     "output_type": "execute_result"
    }
   ],
   "source": [
    "dataset.head()"
   ]
  },
  {
   "cell_type": "code",
   "execution_count": 7,
   "id": "15edc978-7471-426a-a7e9-d0e92587f198",
   "metadata": {},
   "outputs": [],
   "source": [
    "q_tempalte = \"\"\"Q: In the __GAME_NAME__ video game, the following sequence of events happened:\n",
    "\n",
    "__EVENT__\n",
    "\n",
    "Which event is a bug?\n",
    "\n",
    "A:\"\"\""
   ]
  },
  {
   "cell_type": "code",
   "execution_count": 8,
   "id": "febab5d1-9f7c-4166-b672-63d6be9601a9",
   "metadata": {},
   "outputs": [],
   "source": [
    "Trigger = \"Let's reason the events according to the reference game\""
   ]
  },
  {
   "cell_type": "code",
   "execution_count": 13,
   "id": "cce4e042-6e2d-43e8-a39b-e668b818252c",
   "metadata": {},
   "outputs": [],
   "source": [
    "def detect_the_bug(initial_prompt, trigger_sentece=Trigger):\n",
    "  initial_response = openai.Completion.create(\n",
    "          model=MODEL,\n",
    "          prompt=initial_prompt+trigger_sentece,\n",
    "          temperature=0,\n",
    "          max_tokens=256,\n",
    "          top_p=1,\n",
    "          frequency_penalty=0,\n",
    "          presence_penalty=0,\n",
    "          stop=['Q:']\n",
    "  )\n",
    "  \n",
    "  answer_extractor_prompt = (\n",
    "    initial_prompt + trigger_sentece\n",
    "    + initial_response[\"choices\"][0][\"text\"]\n",
    "    + \"\\n\"\n",
    "    + \"Among (a) through (d), the answer is\"\n",
    "  )\n",
    "  \n",
    "  response_final = openai.Completion.create(\n",
    "    model=MODEL,\n",
    "    prompt=answer_extractor_prompt,\n",
    "    temperature=0,\n",
    "    max_tokens=32,\n",
    "    top_p=1,\n",
    "    frequency_penalty=0,\n",
    "    presence_penalty=0,\n",
    "  )\n",
    "  \n",
    "  return initial_prompt+trigger_sentece, initial_response, answer_extractor_prompt, response_final"
   ]
  },
  {
   "cell_type": "code",
   "execution_count": 24,
   "id": "577dd644-e6ba-445c-bec6-1614e9663293",
   "metadata": {
    "tags": []
   },
   "outputs": [],
   "source": [
    "def run_single_query(query_id, descr='Descr1', q_tempalte=q_tempalte, trigger_sentece=Trigger):\n",
    "  event_desc = dataset[descr][query_id]\n",
    "  game       = dataset['Game'][query_id]\n",
    "\n",
    "  prompt_q_init = q_tempalte.replace('__EVENT__', event_desc).replace('__GAME_NAME__', game)\n",
    "  # print(prompt_q_init+trigger_sentece)\n",
    "  return detect_the_bug(prompt_q_init)"
   ]
  },
  {
   "cell_type": "code",
   "execution_count": 25,
   "id": "9435198e-33df-4a35-a49c-1765fc5f17e0",
   "metadata": {},
   "outputs": [],
   "source": [
    "input_a, output_a, input_b, output_b = run_single_query(79, descr='Descr1')"
   ]
  },
  {
   "cell_type": "code",
   "execution_count": 26,
   "id": "aecccd1f-5058-4f02-99fe-0605bb972723",
   "metadata": {},
   "outputs": [
    {
     "name": "stdout",
     "output_type": "stream",
     "text": [
      "Q: In the Grand Theft Auto V video game, the following sequence of events happened:\n",
      "\n",
      "(a) A person is driving a car on a freeway\n",
      "(b) The person jumps out of the vehicle\n",
      "(c) The person is hit by another car and ejected into the sky\n",
      "(d) The person falls from the sky and hits the beach\n",
      "\n",
      "Which event is a bug?\n",
      "\n",
      "A:Let's reason the events according to the reference game's mechanics. In GTA V, when a player exits a vehicle while it's still in motion, the character will automatically enter a \"ragdoll\" state and fall to the ground. If the player is then hit by another vehicle while in this ragdoll state, they will be ejected into the air. However, the character should then fall back down to the ground and not remain floating in the air. Therefore, event (c) is the bug.\n",
      "Among (a) through (d), the answer is\n"
     ]
    }
   ],
   "source": [
    "print(input_b)"
   ]
  },
  {
   "cell_type": "code",
   "execution_count": 27,
   "id": "6c3cb9aa-9624-4cbc-b8ad-13010826a440",
   "metadata": {},
   "outputs": [
    {
     "data": {
      "text/plain": [
       "' (c).'"
      ]
     },
     "execution_count": 27,
     "metadata": {},
     "output_type": "execute_result"
    }
   ],
   "source": [
    "output_b[\"choices\"][0][\"text\"]"
   ]
  }
 ],
 "metadata": {
  "kernelspec": {
   "display_name": "Python 3 (ipykernel)",
   "language": "python",
   "name": "python3"
  },
  "language_info": {
   "codemirror_mode": {
    "name": "ipython",
    "version": 3
   },
   "file_extension": ".py",
   "mimetype": "text/x-python",
   "name": "python",
   "nbconvert_exporter": "python",
   "pygments_lexer": "ipython3",
   "version": "3.9.7"
  }
 },
 "nbformat": 4,
 "nbformat_minor": 5
}
